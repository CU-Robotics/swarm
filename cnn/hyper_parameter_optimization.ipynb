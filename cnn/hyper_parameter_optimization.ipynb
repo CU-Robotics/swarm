{
 "cells": [
  {
   "cell_type": "markdown",
   "metadata": {
    "colab": {
     "base_uri": "https://localhost:8080/"
    },
    "executionInfo": {
     "elapsed": 11393,
     "status": "ok",
     "timestamp": 1761443855249,
     "user": {
      "displayName": "Daniel Zhu",
      "userId": "00161032685532082979"
     },
     "user_tz": 360
    },
    "id": "rQ2omtClxb4k",
    "outputId": "05b28b98-5083-4b60-ab07-4f76a94be1f2"
   },
   "source": [
    "[![Open In Colab](https://colab.research.google.com/assets/colab-badge.svg)](https://colab.research.google.com/github/CU-Robotics/swarm/blob/main/cnn/hyper_parameter_optimization.ipynb?authuser=2)"
   ]
  },
  {
   "cell_type": "code",
   "execution_count": 2,
   "metadata": {
    "executionInfo": {
     "elapsed": 12220,
     "status": "ok",
     "timestamp": 1761443867471,
     "user": {
      "displayName": "Daniel Zhu",
      "userId": "00161032685532082979"
     },
     "user_tz": 360
    },
    "id": "rPyiT2xNsZ_7"
   },
   "outputs": [],
   "source": [
    "import os\n",
    "import sys\n",
    "\n",
    "import torch\n",
    "import torch.nn as nn\n",
    "import torch.nn.functional as F\n",
    "import torch.optim as optim\n",
    "import torchvision.transforms as transforms\n",
    "from torch.utils.data import random_split, DataLoader\n",
    "from torch.utils.data import Dataset\n",
    "\n",
    "import optuna\n",
    "from optuna.trial import TrialState\n",
    "\n",
    "from PIL import Image\n",
    "from tqdm import tqdm\n",
    "import os\n",
    "import json\n",
    "from datetime import datetime"
   ]
  },
  {
   "cell_type": "code",
   "execution_count": 3,
   "metadata": {
    "colab": {
     "base_uri": "https://localhost:8080/"
    },
    "executionInfo": {
     "elapsed": 8,
     "status": "ok",
     "timestamp": 1761443867525,
     "user": {
      "displayName": "Daniel Zhu",
      "userId": "00161032685532082979"
     },
     "user_tz": 360
    },
    "id": "A7P_6CRfsiPa",
    "outputId": "9e517c1c-476d-40c9-c49f-88dbc3d09135"
   },
   "outputs": [
    {
     "name": "stdout",
     "output_type": "stream",
     "text": [
      "Using device: cuda\n"
     ]
    }
   ],
   "source": [
    "\n",
    "DEVICE = torch.accelerator.current_accelerator().type if torch.accelerator.is_available() else \"cpu\"\n",
    "BATCHSIZE = 128\n",
    "CLASSES = 7\n",
    "DIR = os.getcwd() + \"/data/\"\n",
    "EPOCHS = 10\n",
    "N_TRAIN_EXAMPLES = BATCHSIZE * 30\n",
    "N_VALID_EXAMPLES = BATCHSIZE * 10\n",
    "\n",
    "print(f'Using device: {DEVICE}')\n"
   ]
  },
  {
   "cell_type": "code",
   "execution_count": 4,
   "metadata": {
    "colab": {
     "base_uri": "https://localhost:8080/"
    },
    "executionInfo": {
     "elapsed": 6749,
     "status": "ok",
     "timestamp": 1761443874278,
     "user": {
      "displayName": "Daniel Zhu",
      "userId": "00161032685532082979"
     },
     "user_tz": 360
    },
    "id": "4LDut_73ci1p",
    "outputId": "1d52c7f2-7879-4c4b-f481-d19211f7ab10"
   },
   "outputs": [
    {
     "name": "stdout",
     "output_type": "stream",
     "text": [
      "Downloading...\n",
      "From (original): https://drive.google.com/uc?id=1yyGVx6jvZgLLSX4yx9c8JBKDM5bTa9eK\n",
      "From (redirected): https://drive.google.com/uc?id=1yyGVx6jvZgLLSX4yx9c8JBKDM5bTa9eK&confirm=t&uuid=ab8e8464-33ac-4b10-ae66-d5c98be13dfb\n",
      "To: /content/data.zip\n",
      "100% 59.3M/59.3M [00:01<00:00, 55.4MB/s]\n"
     ]
    }
   ],
   "source": [
    "# Download the zip file from Google Drive\n",
    "!gdown --fuzzy https://drive.google.com/file/d/1yyGVx6jvZgLLSX4yx9c8JBKDM5bTa9eK/view?usp=drive_link\n",
    "!unzip -q data.zip -d /content/data/"
   ]
  },
  {
   "cell_type": "code",
   "execution_count": 5,
   "metadata": {
    "executionInfo": {
     "elapsed": 23,
     "status": "ok",
     "timestamp": 1761443874294,
     "user": {
      "displayName": "Daniel Zhu",
      "userId": "00161032685532082979"
     },
     "user_tz": 360
    },
    "id": "9JTvgm45WnkN"
   },
   "outputs": [],
   "source": [
    "\n",
    "\n",
    "# Custom dataset class for loading images and labels\n",
    "class CustomImageDataset(Dataset):\n",
    "    def __init__(self, annotations_file, img_dir, transform=None):\n",
    "        self.img_labels = json.load(open(annotations_file)) # path to pipeline.json\n",
    "        self.img_dir = img_dir                              # folder where the cleaned images are\n",
    "        self.transform = transform\n",
    "        self.classes = {'1':1, '2':2, '3':3, '4':4, 'sentry':5, 'base':6, 'tower':7}\n",
    "\n",
    "    def __len__(self):\n",
    "        return len(self.img_labels)\n",
    "\n",
    "    # gets image and label at index idx based on position in json\n",
    "    def __getitem__(self, idx):\n",
    "        image_data = self.img_labels[idx]\n",
    "        img_name = image_data[\"name\"]\n",
    "        img_folder = image_data[\"folder\"]\n",
    "\n",
    "        img_path = os.path.join(self.img_dir, img_folder, \"cropped\", img_name)\n",
    "\n",
    "        image = Image.open(img_path).convert(\"RGB\")\n",
    "\n",
    "        label = self.classes[image_data[\"labels\"][\"icon\"]]\n",
    "\n",
    "        if self.transform:\n",
    "            image = self.transform(image)\n",
    "\n",
    "        return image, label\n",
    "\n"
   ]
  },
  {
   "cell_type": "code",
   "execution_count": 6,
   "metadata": {
    "executionInfo": {
     "elapsed": 22,
     "status": "ok",
     "timestamp": 1761443874298,
     "user": {
      "displayName": "Daniel Zhu",
      "userId": "00161032685532082979"
     },
     "user_tz": 360
    },
    "id": "TOFJ1JZjXCmY"
   },
   "outputs": [],
   "source": [
    "def define_model(trial):\n",
    "\n",
    "    num_layers = trial.suggest_int('num_layers', 1, 3)\n",
    "    layers = []\n",
    "\n",
    "    in_features = 1\n",
    "    for i in range(num_layers):\n",
    "        out_features = trial.suggest_int(f'n_units_l{i}', 16, 64, step = 16)\n",
    "        kernel_size = trial.suggest_int(f'kernel_size_l{i}', 3, 7, step=2)\n",
    "        layers.append(nn.Conv2d(in_features, out_features, kernel_size=kernel_size, padding=kernel_size//2))\n",
    "        layers.append(nn.ReLU())\n",
    "        layers.append(nn.MaxPool2d(2))\n",
    "\n",
    "        in_features = out_features\n",
    "\n",
    "    model = nn.Sequential(*layers)\n",
    "\n",
    "    # Flatten layer\n",
    "    model.add_module(\"flatten\", nn.Flatten())\n",
    "\n",
    "    # Estimate feature size after convolutions\n",
    "    with torch.no_grad():\n",
    "        dummy = torch.zeros(1, 1, 100, 100)\n",
    "        n_features = model(dummy).shape[1]\n",
    "\n",
    "    # Add final classifier\n",
    "    model.add_module(\"fc\", nn.Linear(n_features, CLASSES))\n",
    "    model.add_module(\"logsoftmax\", nn.LogSoftmax(dim=1))\n",
    "\n",
    "    return model"
   ]
  },
  {
   "cell_type": "code",
   "execution_count": 7,
   "metadata": {
    "executionInfo": {
     "elapsed": 23,
     "status": "ok",
     "timestamp": 1761443874302,
     "user": {
      "displayName": "Daniel Zhu",
      "userId": "00161032685532082979"
     },
     "user_tz": 360
    },
    "id": "tbOQrmxmsj5J"
   },
   "outputs": [],
   "source": [
    "def get_data_loaders():\n",
    "    annotations_file = os.path.join(DIR, 'cleaned_metadata.json')\n",
    "\n",
    "    # transform = transforms.Compose([\n",
    "    #     transforms.Grayscale(num_output_channels=1),\n",
    "    #     transforms.ToTensor(),\n",
    "    #     transforms.Lambda(lambda t: t.sqrt()),\n",
    "    # ])\n",
    "\n",
    "    transform = transforms.Compose([\n",
    "      transforms.Grayscale(num_output_channels=1),\n",
    "      transforms.RandomHorizontalFlip(),\n",
    "      transforms.RandomRotation(15),\n",
    "      transforms.ColorJitter(brightness=0.2, contrast=0.2),\n",
    "      transforms.ToTensor(),\n",
    "      transforms.Lambda(lambda t: t.sqrt()),\n",
    "    ])\n",
    "\n",
    "    dataset = CustomImageDataset(annotations_file, img_dir=DIR, transform=transform)\n",
    "\n",
    "    # Split sizes\n",
    "    train_size = int(0.8 * len(dataset))  # 80%\n",
    "    val_size = len(dataset) - train_size  # remaining 20%\n",
    "\n",
    "    # Random split\n",
    "    train_dataset, val_dataset = random_split(dataset, [train_size, val_size])\n",
    "\n",
    "    train_loader = DataLoader(train_dataset, batch_size=BATCHSIZE, shuffle=True, num_workers=2)\n",
    "\n",
    "    val_loader = DataLoader(val_dataset, batch_size=BATCHSIZE, shuffle=True, num_workers=2)\n",
    "\n",
    "    return train_loader, val_loader"
   ]
  },
  {
   "cell_type": "code",
   "execution_count": 8,
   "metadata": {
    "executionInfo": {
     "elapsed": 22,
     "status": "ok",
     "timestamp": 1761443874323,
     "user": {
      "displayName": "Daniel Zhu",
      "userId": "00161032685532082979"
     },
     "user_tz": 360
    },
    "id": "EqoHcM8Hsmm1"
   },
   "outputs": [],
   "source": [
    "\n",
    "def objective(trial):\n",
    "    model = define_model(trial).to(DEVICE)\n",
    "\n",
    "    # Suggest hyperparameters for optimizer\n",
    "    lr = trial.suggest_float('lr', 1e-5, 1e-1, log=True)\n",
    "    optimizer_name = trial.suggest_categorical('optimizer', ['Adam', 'RMSprop', 'SGD'])\n",
    "    optimizer = getattr(optim, optimizer_name)(model.parameters(), lr=lr)\n",
    "\n",
    "    train_loader, valid_loader = get_data_loaders()\n",
    "\n",
    "    # Training of the model.\n",
    "    for epoch in range(EPOCHS):\n",
    "        model.train()\n",
    "        for batch_idx, (data, target) in enumerate(train_loader):\n",
    "            # Limiting training data for faster epochs.\n",
    "            if batch_idx * BATCHSIZE >= N_TRAIN_EXAMPLES:\n",
    "                break\n",
    "\n",
    "            data, target = data.view(data.size(0), 1, 100, 100).to(DEVICE), target.to(DEVICE)\n",
    "\n",
    "            optimizer.zero_grad()\n",
    "            output = model(data)\n",
    "            loss = F.nll_loss(output, target)\n",
    "            loss.backward()\n",
    "            optimizer.step()\n",
    "\n",
    "        # Validation of the model.\n",
    "        model.eval()\n",
    "        correct = 0\n",
    "        with torch.no_grad():\n",
    "            for batch_idx, (data, target) in enumerate(valid_loader):\n",
    "                # Limiting validation data.\n",
    "                if batch_idx * BATCHSIZE >= N_VALID_EXAMPLES:\n",
    "                    break\n",
    "                data, target = data.view(data.size(0), 1, 100, 100).to(DEVICE), target.to(DEVICE)\n",
    "                output = model(data)\n",
    "                # Get the index of the max log-probability.\n",
    "                pred = output.argmax(dim=1, keepdim=True)\n",
    "                correct += pred.eq(target.view_as(pred)).sum().item()\n",
    "\n",
    "        accuracy = correct / min(len(valid_loader.dataset), N_VALID_EXAMPLES)\n",
    "\n",
    "        trial.report(accuracy, epoch)\n",
    "\n",
    "        # Handle pruning based on the intermediate value.\n",
    "        if trial.should_prune():\n",
    "            raise optuna.exceptions.TrialPruned()\n",
    "\n",
    "    return accuracy\n"
   ]
  },
  {
   "cell_type": "code",
   "execution_count": 9,
   "metadata": {
    "colab": {
     "base_uri": "https://localhost:8080/"
    },
    "executionInfo": {
     "elapsed": 1011235,
     "status": "ok",
     "timestamp": 1761444885561,
     "user": {
      "displayName": "Daniel Zhu",
      "userId": "00161032685532082979"
     },
     "user_tz": 360
    },
    "id": "ipsIX0EgxPBc",
    "outputId": "c3164379-4649-408a-b26b-37ec61b6a3c7"
   },
   "outputs": [
    {
     "name": "stderr",
     "output_type": "stream",
     "text": [
      "[I 2025-10-26 01:57:44,162] A new study created in memory with name: no-name-ba48355b-df84-4270-aaee-0a10d0b3c98f\n",
      "[I 2025-10-26 01:58:13,062] Trial 0 finished with value: 0.9096296296296297 and parameters: {'num_layers': 1, 'n_units_l0': 48, 'kernel_size_l0': 7, 'lr': 1.900182157575086e-05, 'optimizer': 'RMSprop'}. Best is trial 0 with value: 0.9096296296296297.\n",
      "[I 2025-10-26 01:58:45,376] Trial 1 finished with value: 0.43703703703703706 and parameters: {'num_layers': 3, 'n_units_l0': 48, 'kernel_size_l0': 3, 'n_units_l1': 32, 'kernel_size_l1': 7, 'n_units_l2': 32, 'kernel_size_l2': 7, 'lr': 0.007632937524317378, 'optimizer': 'Adam'}. Best is trial 0 with value: 0.9096296296296297.\n",
      "[I 2025-10-26 01:59:13,572] Trial 2 finished with value: 0.9585185185185185 and parameters: {'num_layers': 2, 'n_units_l0': 48, 'kernel_size_l0': 3, 'n_units_l1': 16, 'kernel_size_l1': 5, 'lr': 0.00035396294194037914, 'optimizer': 'RMSprop'}. Best is trial 2 with value: 0.9585185185185185.\n",
      "[I 2025-10-26 01:59:43,311] Trial 3 finished with value: 0.5911111111111111 and parameters: {'num_layers': 3, 'n_units_l0': 64, 'kernel_size_l0': 5, 'n_units_l1': 16, 'kernel_size_l1': 3, 'n_units_l2': 48, 'kernel_size_l2': 7, 'lr': 1.2934396243671794e-05, 'optimizer': 'RMSprop'}. Best is trial 2 with value: 0.9585185185185185.\n",
      "[I 2025-10-26 02:00:12,442] Trial 4 finished with value: 0.5733333333333334 and parameters: {'num_layers': 3, 'n_units_l0': 16, 'kernel_size_l0': 5, 'n_units_l1': 16, 'kernel_size_l1': 5, 'n_units_l2': 64, 'kernel_size_l2': 3, 'lr': 8.914291486561685e-05, 'optimizer': 'SGD'}. Best is trial 2 with value: 0.9585185185185185.\n",
      "[I 2025-10-26 02:00:15,051] Trial 5 pruned. \n",
      "[I 2025-10-26 02:00:55,318] Trial 6 finished with value: 0.8488888888888889 and parameters: {'num_layers': 3, 'n_units_l0': 64, 'kernel_size_l0': 7, 'n_units_l1': 64, 'kernel_size_l1': 7, 'n_units_l2': 48, 'kernel_size_l2': 7, 'lr': 0.013433526613374748, 'optimizer': 'Adam'}. Best is trial 2 with value: 0.9585185185185185.\n",
      "[I 2025-10-26 02:01:01,727] Trial 7 pruned. \n",
      "[I 2025-10-26 02:01:04,724] Trial 8 pruned. \n",
      "[I 2025-10-26 02:01:07,526] Trial 9 pruned. \n",
      "[I 2025-10-26 02:01:10,218] Trial 10 pruned. \n",
      "[I 2025-10-26 02:01:39,323] Trial 11 finished with value: 0.882962962962963 and parameters: {'num_layers': 2, 'n_units_l0': 32, 'kernel_size_l0': 5, 'n_units_l1': 48, 'kernel_size_l1': 5, 'lr': 0.00018997049207116482, 'optimizer': 'RMSprop'}. Best is trial 2 with value: 0.9585185185185185.\n",
      "[I 2025-10-26 02:02:06,934] Trial 12 finished with value: 0.9362962962962963 and parameters: {'num_layers': 1, 'n_units_l0': 48, 'kernel_size_l0': 7, 'lr': 0.00011271921160952236, 'optimizer': 'RMSprop'}. Best is trial 2 with value: 0.9585185185185185.\n",
      "[I 2025-10-26 02:02:09,527] Trial 13 pruned. \n",
      "[I 2025-10-26 02:02:37,792] Trial 14 finished with value: 0.9333333333333333 and parameters: {'num_layers': 2, 'n_units_l0': 48, 'kernel_size_l0': 5, 'n_units_l1': 64, 'kernel_size_l1': 5, 'lr': 0.00010376034578853085, 'optimizer': 'RMSprop'}. Best is trial 2 with value: 0.9585185185185185.\n",
      "[I 2025-10-26 02:03:05,252] Trial 15 finished with value: 0.9451851851851852 and parameters: {'num_layers': 1, 'n_units_l0': 32, 'kernel_size_l0': 3, 'lr': 0.0002578490695394495, 'optimizer': 'RMSprop'}. Best is trial 2 with value: 0.9585185185185185.\n",
      "[I 2025-10-26 02:03:08,674] Trial 16 pruned. \n",
      "[I 2025-10-26 02:03:35,531] Trial 17 finished with value: 0.965925925925926 and parameters: {'num_layers': 1, 'n_units_l0': 16, 'kernel_size_l0': 3, 'lr': 0.000339761499852618, 'optimizer': 'RMSprop'}. Best is trial 17 with value: 0.965925925925926.\n",
      "[I 2025-10-26 02:03:40,501] Trial 18 pruned. \n",
      "[I 2025-10-26 02:03:43,190] Trial 19 pruned. \n",
      "[I 2025-10-26 02:03:46,574] Trial 20 pruned. \n",
      "[I 2025-10-26 02:03:49,195] Trial 21 pruned. \n",
      "[I 2025-10-26 02:04:16,453] Trial 22 finished with value: 0.6962962962962963 and parameters: {'num_layers': 1, 'n_units_l0': 16, 'kernel_size_l0': 3, 'lr': 0.0015704283874724224, 'optimizer': 'RMSprop'}. Best is trial 17 with value: 0.965925925925926.\n",
      "[I 2025-10-26 02:04:45,042] Trial 23 finished with value: 0.9792592592592593 and parameters: {'num_layers': 2, 'n_units_l0': 32, 'kernel_size_l0': 5, 'n_units_l1': 32, 'kernel_size_l1': 7, 'lr': 0.000490235634516948, 'optimizer': 'RMSprop'}. Best is trial 23 with value: 0.9792592592592593.\n",
      "[I 2025-10-26 02:04:48,582] Trial 24 pruned. \n",
      "[I 2025-10-26 02:04:53,878] Trial 25 pruned. \n",
      "[I 2025-10-26 02:04:56,508] Trial 26 pruned. \n",
      "[I 2025-10-26 02:04:59,608] Trial 27 pruned. \n",
      "[I 2025-10-26 02:05:02,621] Trial 28 pruned. \n",
      "[I 2025-10-26 02:05:05,865] Trial 29 pruned. \n",
      "[I 2025-10-26 02:05:08,529] Trial 30 pruned. \n",
      "[I 2025-10-26 02:05:11,543] Trial 31 pruned. \n",
      "[I 2025-10-26 02:05:15,097] Trial 32 pruned. \n",
      "[I 2025-10-26 02:05:20,335] Trial 33 pruned. \n",
      "[I 2025-10-26 02:05:26,969] Trial 34 pruned. \n",
      "[I 2025-10-26 02:05:29,757] Trial 35 pruned. \n",
      "[I 2025-10-26 02:05:35,202] Trial 36 pruned. \n",
      "[I 2025-10-26 02:06:04,583] Trial 37 finished with value: 0.9451851851851852 and parameters: {'num_layers': 1, 'n_units_l0': 64, 'kernel_size_l0': 7, 'lr': 0.01625578888000804, 'optimizer': 'SGD'}. Best is trial 23 with value: 0.9792592592592593.\n",
      "[I 2025-10-26 02:06:07,251] Trial 38 pruned. \n",
      "[I 2025-10-26 02:06:09,995] Trial 39 pruned. \n",
      "[I 2025-10-26 02:06:12,795] Trial 40 pruned. \n",
      "[I 2025-10-26 02:06:15,913] Trial 41 pruned. \n",
      "[I 2025-10-26 02:06:21,757] Trial 42 pruned. \n",
      "[I 2025-10-26 02:06:24,543] Trial 43 pruned. \n",
      "[I 2025-10-26 02:06:27,184] Trial 44 pruned. \n",
      "[I 2025-10-26 02:06:30,990] Trial 45 pruned. \n",
      "[I 2025-10-26 02:06:36,346] Trial 46 pruned. \n",
      "[I 2025-10-26 02:07:04,482] Trial 47 finished with value: 0.9437037037037037 and parameters: {'num_layers': 1, 'n_units_l0': 64, 'kernel_size_l0': 3, 'lr': 0.00035175682022698, 'optimizer': 'Adam'}. Best is trial 23 with value: 0.9792592592592593.\n",
      "[I 2025-10-26 02:07:08,323] Trial 48 pruned. \n",
      "[I 2025-10-26 02:07:13,490] Trial 49 pruned. \n",
      "[I 2025-10-26 02:07:19,092] Trial 50 pruned. \n",
      "[I 2025-10-26 02:07:48,082] Trial 51 finished with value: 0.965925925925926 and parameters: {'num_layers': 1, 'n_units_l0': 64, 'kernel_size_l0': 3, 'lr': 0.00027146448968131347, 'optimizer': 'Adam'}. Best is trial 23 with value: 0.9792592592592593.\n",
      "[I 2025-10-26 02:07:50,845] Trial 52 pruned. \n",
      "[I 2025-10-26 02:08:02,408] Trial 53 pruned. \n",
      "[I 2025-10-26 02:08:37,706] Trial 54 finished with value: 0.9733333333333334 and parameters: {'num_layers': 1, 'n_units_l0': 64, 'kernel_size_l0': 3, 'lr': 0.0007724274780891115, 'optimizer': 'Adam'}. Best is trial 23 with value: 0.9792592592592593.\n",
      "[I 2025-10-26 02:09:05,745] Trial 55 finished with value: 0.9674074074074074 and parameters: {'num_layers': 1, 'n_units_l0': 48, 'kernel_size_l0': 3, 'lr': 0.0006932798878893102, 'optimizer': 'Adam'}. Best is trial 23 with value: 0.9792592592592593.\n",
      "[I 2025-10-26 02:09:08,458] Trial 56 pruned. \n",
      "[I 2025-10-26 02:09:11,138] Trial 57 pruned. \n",
      "[I 2025-10-26 02:09:14,746] Trial 58 pruned. \n",
      "[I 2025-10-26 02:09:42,999] Trial 59 finished with value: 0.9125925925925926 and parameters: {'num_layers': 1, 'n_units_l0': 64, 'kernel_size_l0': 3, 'lr': 0.0011803763525236137, 'optimizer': 'Adam'}. Best is trial 23 with value: 0.9792592592592593.\n",
      "[I 2025-10-26 02:09:46,139] Trial 60 pruned. \n",
      "[I 2025-10-26 02:10:13,879] Trial 61 finished with value: 0.9555555555555556 and parameters: {'num_layers': 1, 'n_units_l0': 32, 'kernel_size_l0': 3, 'lr': 0.0002591156687907359, 'optimizer': 'Adam'}. Best is trial 23 with value: 0.9792592592592593.\n",
      "[I 2025-10-26 02:10:17,277] Trial 62 pruned. \n",
      "[I 2025-10-26 02:10:45,542] Trial 63 finished with value: 0.9437037037037037 and parameters: {'num_layers': 1, 'n_units_l0': 48, 'kernel_size_l0': 3, 'lr': 0.0005234808006406712, 'optimizer': 'Adam'}. Best is trial 23 with value: 0.9792592592592593.\n",
      "[I 2025-10-26 02:10:48,165] Trial 64 pruned. \n",
      "[I 2025-10-26 02:11:15,984] Trial 65 finished with value: 0.9585185185185185 and parameters: {'num_layers': 1, 'n_units_l0': 16, 'kernel_size_l0': 3, 'lr': 0.0007961017867386788, 'optimizer': 'Adam'}. Best is trial 23 with value: 0.9792592592592593.\n",
      "[I 2025-10-26 02:11:18,545] Trial 66 pruned. \n",
      "[I 2025-10-26 02:11:22,270] Trial 67 pruned. \n",
      "[I 2025-10-26 02:11:25,083] Trial 68 pruned. \n",
      "[I 2025-10-26 02:11:27,706] Trial 69 pruned. \n",
      "[I 2025-10-26 02:11:30,444] Trial 70 pruned. \n",
      "[I 2025-10-26 02:11:33,917] Trial 71 pruned. \n",
      "[I 2025-10-26 02:12:01,909] Trial 72 finished with value: 0.9703703703703703 and parameters: {'num_layers': 1, 'n_units_l0': 16, 'kernel_size_l0': 3, 'lr': 0.0005580570019477702, 'optimizer': 'Adam'}. Best is trial 23 with value: 0.9792592592592593.\n",
      "[I 2025-10-26 02:12:15,748] Trial 73 pruned. \n",
      "[I 2025-10-26 02:12:18,333] Trial 74 pruned. \n",
      "[I 2025-10-26 02:12:45,715] Trial 75 finished with value: 0.9614814814814815 and parameters: {'num_layers': 1, 'n_units_l0': 16, 'kernel_size_l0': 3, 'lr': 0.0006599491868190639, 'optimizer': 'Adam'}. Best is trial 23 with value: 0.9792592592592593.\n",
      "[I 2025-10-26 02:12:49,072] Trial 76 pruned. \n",
      "[I 2025-10-26 02:12:51,911] Trial 77 pruned. \n",
      "[I 2025-10-26 02:13:20,225] Trial 78 finished with value: 0.9614814814814815 and parameters: {'num_layers': 2, 'n_units_l0': 16, 'kernel_size_l0': 3, 'n_units_l1': 16, 'kernel_size_l1': 5, 'lr': 0.00047811236718505167, 'optimizer': 'Adam'}. Best is trial 23 with value: 0.9792592592592593.\n",
      "[I 2025-10-26 02:13:22,948] Trial 79 pruned. \n",
      "[I 2025-10-26 02:13:51,152] Trial 80 finished with value: 0.9585185185185185 and parameters: {'num_layers': 1, 'n_units_l0': 16, 'kernel_size_l0': 3, 'lr': 0.0003276780220414242, 'optimizer': 'Adam'}. Best is trial 23 with value: 0.9792592592592593.\n",
      "[I 2025-10-26 02:13:54,429] Trial 81 pruned. \n",
      "[I 2025-10-26 02:13:57,152] Trial 82 pruned. \n",
      "[I 2025-10-26 02:13:59,762] Trial 83 pruned. \n",
      "[I 2025-10-26 02:14:02,449] Trial 84 pruned. \n",
      "[I 2025-10-26 02:14:06,567] Trial 85 pruned. \n",
      "[I 2025-10-26 02:14:35,374] Trial 86 finished with value: 0.9614814814814815 and parameters: {'num_layers': 1, 'n_units_l0': 64, 'kernel_size_l0': 5, 'lr': 0.00030895267292786516, 'optimizer': 'Adam'}. Best is trial 23 with value: 0.9792592592592593.\n"
     ]
    },
    {
     "name": "stdout",
     "output_type": "stream",
     "text": [
      "Study statistics: \n",
      "  Number of finished trials:  87\n",
      "  Number of pruned trials:  60\n",
      "  Number of complete trials:  27\n",
      "Best trial:\n",
      "  Value:  0.9792592592592593\n",
      "  Params: \n",
      "    num_layers: 2\n",
      "    n_units_l0: 32\n",
      "    kernel_size_l0: 5\n",
      "    n_units_l1: 32\n",
      "    kernel_size_l1: 7\n",
      "    lr: 0.000490235634516948\n",
      "    optimizer: RMSprop\n"
     ]
    }
   ],
   "source": [
    "study = optuna.create_study(direction=\"maximize\")\n",
    "study.optimize(objective, n_trials=100, timeout=1000)\n",
    "\n",
    "pruned_trials = study.get_trials(deepcopy=False, states=[TrialState.PRUNED])\n",
    "complete_trials = study.get_trials(deepcopy=False, states=[TrialState.COMPLETE])\n",
    "\n",
    "print(\"Study statistics: \")\n",
    "print(\"  Number of finished trials: \", len(study.trials))\n",
    "print(\"  Number of pruned trials: \", len(pruned_trials))\n",
    "print(\"  Number of complete trials: \", len(complete_trials))\n",
    "\n",
    "print(\"Best trial:\")\n",
    "trial = study.best_trial\n",
    "\n",
    "print(\"  Value: \", trial.value)\n",
    "\n",
    "print(\"  Params: \")\n",
    "for key, value in trial.params.items():\n",
    "    print(\"    {}: {}\".format(key, value))"
   ]
  },
  {
   "cell_type": "code",
   "execution_count": 10,
   "metadata": {
    "executionInfo": {
     "elapsed": 283,
     "status": "ok",
     "timestamp": 1761444885849,
     "user": {
      "displayName": "Daniel Zhu",
      "userId": "00161032685532082979"
     },
     "user_tz": 360
    },
    "id": "1q4j2khX397-"
   },
   "outputs": [],
   "source": [
    "import pandas as pd\n",
    "\n",
    "# Convert trials to DataFrame\n",
    "df = study.trials_dataframe()\n",
    "# print(df)\n",
    "\n",
    "# Save to CSV\n",
    "df.to_csv(\"optuna_trials_rand.csv\", index=False)\n"
   ]
  }
 ],
 "metadata": {
  "accelerator": "GPU",
  "colab": {
   "authorship_tag": "ABX9TyNDnFMg90QyL3/H0zRsHI00",
   "gpuType": "T4",
   "mount_file_id": "1xJmP1lHd-OxgeB-glZY4UZ1VX0fjSeNu",
   "provenance": []
  },
  "kernelspec": {
   "display_name": "Python 3",
   "name": "python3"
  },
  "language_info": {
   "name": "python"
  }
 },
 "nbformat": 4,
 "nbformat_minor": 0
}
